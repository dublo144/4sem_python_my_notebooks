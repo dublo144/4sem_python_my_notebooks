{
 "cells": [
  {
   "cell_type": "markdown",
   "metadata": {},
   "source": [
    "# Recursive function exercise\n",
    "1. Write a function that iterates through a list and prints each value **without using a loop**.  \n",
    "That is, write a recursive function to print the values of a list.\n",
    "2. Write a function that can take any number of arguments and return all arguments concatenated or summed depending on the data type"
   ]
  },
  {
   "cell_type": "code",
   "execution_count": 11,
   "metadata": {},
   "outputs": [
    {
     "name": "stdout",
     "output_type": "stream",
     "text": [
      "One\n"
     ]
    },
    {
     "ename": "TypeError",
     "evalue": "object of type 'NoneType' has no len()",
     "output_type": "error",
     "traceback": [
      "\u001b[0;31m---------------------------------------------------------------------------\u001b[0m",
      "\u001b[0;31mTypeError\u001b[0m                                 Traceback (most recent call last)",
      "\u001b[0;32m<ipython-input-11-8ce65777b23c>\u001b[0m in \u001b[0;36m<module>\u001b[0;34m\u001b[0m\n\u001b[1;32m      4\u001b[0m         \u001b[0mrecursiveFunction\u001b[0m\u001b[0;34m(\u001b[0m\u001b[0mnames\u001b[0m\u001b[0;34m.\u001b[0m\u001b[0mremove\u001b[0m\u001b[0;34m(\u001b[0m\u001b[0mnames\u001b[0m\u001b[0;34m[\u001b[0m\u001b[0;36m0\u001b[0m\u001b[0;34m]\u001b[0m\u001b[0;34m)\u001b[0m\u001b[0;34m)\u001b[0m\u001b[0;34m\u001b[0m\u001b[0;34m\u001b[0m\u001b[0m\n\u001b[1;32m      5\u001b[0m \u001b[0;34m\u001b[0m\u001b[0m\n\u001b[0;32m----> 6\u001b[0;31m \u001b[0mrecursiveFunction\u001b[0m\u001b[0;34m(\u001b[0m\u001b[0;34m[\u001b[0m\u001b[0;34m'One'\u001b[0m\u001b[0;34m,\u001b[0m \u001b[0;34m'Two'\u001b[0m\u001b[0;34m,\u001b[0m \u001b[0;34m'Three'\u001b[0m\u001b[0;34m]\u001b[0m\u001b[0;34m)\u001b[0m\u001b[0;34m\u001b[0m\u001b[0;34m\u001b[0m\u001b[0m\n\u001b[0m",
      "\u001b[0;32m<ipython-input-11-8ce65777b23c>\u001b[0m in \u001b[0;36mrecursiveFunction\u001b[0;34m(names)\u001b[0m\n\u001b[1;32m      2\u001b[0m     \u001b[0;32mif\u001b[0m \u001b[0mlen\u001b[0m\u001b[0;34m(\u001b[0m\u001b[0mnames\u001b[0m\u001b[0;34m)\u001b[0m \u001b[0;34m>\u001b[0m \u001b[0;36m0\u001b[0m\u001b[0;34m:\u001b[0m\u001b[0;34m\u001b[0m\u001b[0;34m\u001b[0m\u001b[0m\n\u001b[1;32m      3\u001b[0m         \u001b[0mprint\u001b[0m\u001b[0;34m(\u001b[0m\u001b[0mnames\u001b[0m\u001b[0;34m[\u001b[0m\u001b[0;36m0\u001b[0m\u001b[0;34m]\u001b[0m\u001b[0;34m)\u001b[0m\u001b[0;34m;\u001b[0m\u001b[0;34m\u001b[0m\u001b[0;34m\u001b[0m\u001b[0m\n\u001b[0;32m----> 4\u001b[0;31m         \u001b[0mrecursiveFunction\u001b[0m\u001b[0;34m(\u001b[0m\u001b[0mnames\u001b[0m\u001b[0;34m.\u001b[0m\u001b[0mremove\u001b[0m\u001b[0;34m(\u001b[0m\u001b[0mnames\u001b[0m\u001b[0;34m[\u001b[0m\u001b[0;36m0\u001b[0m\u001b[0;34m]\u001b[0m\u001b[0;34m)\u001b[0m\u001b[0;34m)\u001b[0m\u001b[0;34m\u001b[0m\u001b[0;34m\u001b[0m\u001b[0m\n\u001b[0m\u001b[1;32m      5\u001b[0m \u001b[0;34m\u001b[0m\u001b[0m\n\u001b[1;32m      6\u001b[0m \u001b[0mrecursiveFunction\u001b[0m\u001b[0;34m(\u001b[0m\u001b[0;34m[\u001b[0m\u001b[0;34m'One'\u001b[0m\u001b[0;34m,\u001b[0m \u001b[0;34m'Two'\u001b[0m\u001b[0;34m,\u001b[0m \u001b[0;34m'Three'\u001b[0m\u001b[0;34m]\u001b[0m\u001b[0;34m)\u001b[0m\u001b[0;34m\u001b[0m\u001b[0;34m\u001b[0m\u001b[0m\n",
      "\u001b[0;32m<ipython-input-11-8ce65777b23c>\u001b[0m in \u001b[0;36mrecursiveFunction\u001b[0;34m(names)\u001b[0m\n\u001b[1;32m      1\u001b[0m \u001b[0;32mdef\u001b[0m \u001b[0mrecursiveFunction\u001b[0m\u001b[0;34m(\u001b[0m\u001b[0mnames\u001b[0m\u001b[0;34m)\u001b[0m\u001b[0;34m:\u001b[0m\u001b[0;34m\u001b[0m\u001b[0;34m\u001b[0m\u001b[0m\n\u001b[0;32m----> 2\u001b[0;31m     \u001b[0;32mif\u001b[0m \u001b[0mlen\u001b[0m\u001b[0;34m(\u001b[0m\u001b[0mnames\u001b[0m\u001b[0;34m)\u001b[0m \u001b[0;34m>\u001b[0m \u001b[0;36m0\u001b[0m\u001b[0;34m:\u001b[0m\u001b[0;34m\u001b[0m\u001b[0;34m\u001b[0m\u001b[0m\n\u001b[0m\u001b[1;32m      3\u001b[0m         \u001b[0mprint\u001b[0m\u001b[0;34m(\u001b[0m\u001b[0mnames\u001b[0m\u001b[0;34m[\u001b[0m\u001b[0;36m0\u001b[0m\u001b[0;34m]\u001b[0m\u001b[0;34m)\u001b[0m\u001b[0;34m;\u001b[0m\u001b[0;34m\u001b[0m\u001b[0;34m\u001b[0m\u001b[0m\n\u001b[1;32m      4\u001b[0m         \u001b[0mrecursiveFunction\u001b[0m\u001b[0;34m(\u001b[0m\u001b[0mnames\u001b[0m\u001b[0;34m.\u001b[0m\u001b[0mremove\u001b[0m\u001b[0;34m(\u001b[0m\u001b[0mnames\u001b[0m\u001b[0;34m[\u001b[0m\u001b[0;36m0\u001b[0m\u001b[0;34m]\u001b[0m\u001b[0;34m)\u001b[0m\u001b[0;34m)\u001b[0m\u001b[0;34m\u001b[0m\u001b[0;34m\u001b[0m\u001b[0m\n\u001b[1;32m      5\u001b[0m \u001b[0;34m\u001b[0m\u001b[0m\n",
      "\u001b[0;31mTypeError\u001b[0m: object of type 'NoneType' has no len()"
     ]
    }
   ],
   "source": [
    "def recursiveFunction(names):\n",
    "    if len(names) > 0:\n",
    "        print(names[0]);\n",
    "        recursiveFunction(names.remove(names[0]))\n",
    "        \n",
    "recursiveFunction(['One', 'Two', 'Three'])"
   ]
  },
  {
   "cell_type": "markdown",
   "metadata": {},
   "source": [
    "## Exercise 1\n",
    "- Create a program that can take an input and an output file and write the content of the input file into a list, the console or to the output file.\n",
    "\n",
    "1. Write a python file with 3 functions:\n",
    "  1. `def print_file_content(file)` that can print content of a text file to the console\n",
    "  2. `def write_list_to_file(output_file, lst)` that can take a list or tuple and write each element to a new line in file\n",
    "    1. create a helper function that gets an arbitrary number of strings instead of a list\n",
    "  3. `def read_file(input_file)` that take a csv file and read each row into a list\n",
    "2. Add a functionality so that the program can be called from cli with 2 arguments\n",
    "  1. path to input file\n",
    "  2. an argument `--file file_name` to be used as the output file to write to.\n",
    "  3. if only the input file is given write output to console\n",
    "  4. if the input file is given with a list of extra words add those words to the output (whether to file or console)\n",
    "3. Add 'help' attributes to each cli argument to describe how the module is used  "
   ]
  },
  {
   "cell_type": "code",
   "execution_count": null,
   "metadata": {},
   "outputs": [],
   "source": [
    "import argparse\n",
    "\n",
    "\n",
    "def print_file_content(file):\n",
    "    with open(file) as file_object:\n",
    "        contents = file_object.read()\n",
    "    print(contents)\n",
    "\n",
    "\n",
    "def write_list_to_file(output_file, lst):\n",
    "    tuplelst = tuple(lst)\n",
    "    write_to_file(output_file, tuplelst)\n",
    "\n",
    "\n",
    "def write_to_file(output_file, tuplelst):\n",
    "    with open(output_file, 'w') as file_object:\n",
    "        for n in tuplelst:\n",
    "            file_object.write(n + '\\n')\n",
    "\n",
    "\n",
    "def read_file(input_file):\n",
    "    with open(input_file) as file_object:\n",
    "        content = file_object.readlines()\n",
    "\n",
    "        for line in content:\n",
    "            print(line.strip().split(', '))\n",
    "\n",
    "\n",
    "if __name__ == \"__main__\":\n",
    "    parser = argparse.ArgumentParser(\n",
    "        description='A program that writes to a file')\n",
    "    parser.add_argument('path', help='Path to input file')\n",
    "    parser.add_argument('-o', '--output_name',\n",
    "                        help='The output file to write to')\n",
    "    parser.add_argument(\n",
    "        '-e', '--extra', help='Extra words to be written to the file')\n",
    "    args = parser.parse_args()\n",
    "\n",
    "    if not args.output_name:\n",
    "        read_file(args.path)\n",
    "    elif args.output_name and args.extra:\n",
    "        write_list_to_file(args.output_file, args.extra)"
   ]
  },
  {
   "cell_type": "markdown",
   "metadata": {},
   "source": [
    "## Exercise 2\n",
    "- Create a module called utils.py and put the following functions inside:\n",
    "  1. first function takes a path to a folder and writes all filenames in the folder to a specified output file\n",
    "  2. second takes a path to a folder and write all filenames recursively (files of all sub folders to)\n",
    "  3. third takes a list of filenames and print the first line of each\n",
    "  4. fourth takes a list of filenames and print each line that contains an email (just look for @)\n",
    "  5. fifth takes a list of md files and writes all headlines (lines starting with #) to a file\n",
    "- Make sure your module can be called both from cli and imported to another module\n",
    "- Create a new module that imports utils.py and test each function."
   ]
  },
  {
   "cell_type": "code",
   "execution_count": null,
   "metadata": {},
   "outputs": [],
   "source": [
    "## utils.py\n",
    "\n",
    "import os\n",
    "from exercise_02 import write_list_to_file\n",
    "\n",
    "\n",
    "def foldersToFile(path):\n",
    "    folder_list = []\n",
    "    for _, folders, _ in os.walk(path):\n",
    "        for name in folders:\n",
    "            folder_list.append(name)\n",
    "    write_list_to_file(\n",
    "        '/home/jovyan/my_notebooks/my_data/exercise02/foldersList.txt', folder_list)\n",
    "\n",
    "\n",
    "def filesAndFoldersRecursively(path):\n",
    "    file_list = []\n",
    "    for _, _, files in os.walk(path):\n",
    "        for file in files:\n",
    "            file_list.append(file)\n",
    "    write_list_to_file(\n",
    "        '/home/jovyan/my_notebooks/my_data/exercise02/filesList.txt', file_list)\n",
    "\n",
    "\n",
    "def readFirstLineOfFiles(filePaths):\n",
    "    for filePath in filePaths:\n",
    "        with open(filePath) as file_object:\n",
    "            print(file_object.readline())\n",
    "\n",
    "\n",
    "def findEmailsInFiles(filePaths):\n",
    "    for filePath in filePaths:\n",
    "        with open(filePath) as file:\n",
    "            lines = file.readlines()\n",
    "            for line in lines:\n",
    "                if '@' in line:\n",
    "                    print(line)\n",
    "\n",
    "\n",
    "def headlinesFromMDFiles(filePaths):\n",
    "    for filePath in filePaths:\n",
    "        with open(filePath) as file:\n",
    "            for line in file.readlines():\n",
    "                if line[0] == '#':\n",
    "                    print(line)"
   ]
  }
 ],
 "metadata": {
  "kernelspec": {
   "display_name": "Python 3",
   "language": "python",
   "name": "python3"
  },
  "language_info": {
   "codemirror_mode": {
    "name": "ipython",
    "version": 3
   },
   "file_extension": ".py",
   "mimetype": "text/x-python",
   "name": "python",
   "nbconvert_exporter": "python",
   "pygments_lexer": "ipython3",
   "version": "3.7.6-final"
  }
 },
 "nbformat": 4,
 "nbformat_minor": 4
}