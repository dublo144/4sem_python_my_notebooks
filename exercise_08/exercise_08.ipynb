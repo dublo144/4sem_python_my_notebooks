{
 "cells": [
  {
   "cell_type": "markdown",
   "metadata": {},
   "source": [
    "1.\tCreate a python notebook, and make the proper setup with pandas/numpy & sqlalchemy, to persist all 200 people from the .csv file.  \n",
    "\n",
    "2.\tMake a simple flask server with one, get endpoint `/flask_app/`.  \n",
    "    a) Make it write `Hello World`.  \n",
    "\n",
    "3.\tUse the Flask extended start code from day `08-2 Web services`, and make the following endpoints:  \n",
    "    a) `/api/showAll`  \n",
    "    b) `/api/employee/<string: firstName>/<string: lastName>`  \n",
    "    c) `/api/employee/add`  \n",
    "    d) `/api/employee/delete`  \n",
    "    e) `/api/employee/update`  \n",
    "\n",
    "4.  Test endpoints in Postman.\n",
    "\n",
    "5.\tTest the class from the .py file in CLI. \n",
    "\n",
    "### Made by:  \n",
    "## *Lucky drawing* "
   ]
  },
  {
   "cell_type": "markdown",
   "metadata": {},
   "source": [
    "1. Create a python notebook, and make the proper setup with pandas/numpy & sqlalchemy, to persist all 200 people from the .csv file.  "
   ]
  },
  {
   "cell_type": "code",
   "execution_count": 2,
   "metadata": {},
   "outputs": [],
   "source": [
    "import pandas as pd\n",
    "import numpy as np\n",
    "import sqlalchemy as s_a\n",
    "import csv"
   ]
  },
  {
   "cell_type": "code",
   "execution_count": 3,
   "metadata": {},
   "outputs": [],
   "source": [
    "def read_and_persist(csv_file):\n",
    "    SQLALCHEMY_DATABASE_URL = \"mysql+mysqlconnector://root:root@db/ex_08\"\n",
    "    engine = s_a.create_engine(SQLALCHEMY_DATABASE_URL)\n",
    "    connection = engine.connect()\n",
    "    df = pd.read_csv(csv_file)\n",
    "    df.to_sql('People', con=engine, if_exists='append', index=False)\n",
    "\n",
    "f = '/home/jovyan/my_notebooks/exercise_08/data/People.csv'\n",
    "read_and_persist(f)\n",
    "    "
   ]
  },
  {
   "cell_type": "markdown",
   "metadata": {},
   "source": [
    "2.\tMake a simple flask server with one, get endpoint `/flask_app/`.  \n",
    "    a) Make it write `Hello World`.  "
   ]
  },
  {
   "cell_type": "code",
   "execution_count": null,
   "metadata": {},
   "outputs": [],
   "source": [
    "#!flask/bin/python\n",
    "from flask import Flask, request, jsonify\n",
    "import sqlalchemy as s_a\n",
    "\n",
    "app = Flask(__name__)\n",
    "\n",
    "DB_URL = 'mysql+mysqlconnector://root:root@db/ex_08'\n",
    "engine = s_a.create_engine(DB_URL)\n",
    "connection = engine.connect()\n",
    "\n",
    "\n",
    "@app.route('/flask_app', methods=['GET'])\n",
    "def hello_world():\n",
    "    return \"Hello World!\"\n",
    "\n",
    "\n",
    "@app.route('/api/employee/all', methods=['GET'])\n",
    "def hello():\n",
    "    query = 'SELECT * FROM People'\n",
    "    ResultProxy = connection.execute(query)\n",
    "    ResultSet = ResultProxy.fetchall()\n",
    "    return jsonify([dict(row) for row in ResultSet])\n",
    "\n",
    "\n",
    "@app.route('/api/employee/<string:firstName>/<string:lastName>', methods=['GET'])\n",
    "def employee(firstName, lastName):\n",
    "    query = 'SELECT * FROM People WHERE `First Name` LIKE \\'{}\\' AND `Last Name` LIKE \\'{}\\''.format(\n",
    "        firstName, lastName)\n",
    "    ResultProxy = connection.execute(query)\n",
    "    ResultSet = ResultProxy.fetchall()\n",
    "    return jsonify([dict(row) for row in ResultSet])\n",
    "\n",
    "\n",
    "@app.route('/api/employee/add', methods=['POST'])\n",
    "def create_empployee():\n",
    "    data = request.get_json()\n",
    "    person = {\n",
    "        \"First Name\": data['First Name'],\n",
    "        \"Last Name\": data['Last Name'],\n",
    "        \"Gender\": data[\"Gender\"],\n",
    "        \"Age\": data[\"Age\"],\n",
    "        \"email\": data[\"Email\"],\n",
    "        \"phone\": data[\"Phone\"],\n",
    "        \"Occupation\": data[\"Occupation\"],\n",
    "        \"Salary\": data[\"Salary\"]\n",
    "    }\n",
    "    return jsonify(person)\n",
    "\n",
    "\n",
    "if __name__ == '__main__':\n",
    "    app.run(debug=True)\n"
   ]
  }
 ],
 "metadata": {
  "kernelspec": {
   "display_name": "Python 3",
   "language": "python",
   "name": "python3"
  },
  "language_info": {
   "codemirror_mode": {
    "name": "ipython",
    "version": 3
   },
   "file_extension": ".py",
   "mimetype": "text/x-python",
   "name": "python",
   "nbconvert_exporter": "python",
   "pygments_lexer": "ipython3",
   "version": "3.7.6"
  }
 },
 "nbformat": 4,
 "nbformat_minor": 4
}
