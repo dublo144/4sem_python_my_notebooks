{
 "cells": [
  {
   "source": [
    "### [Wikipedia data](https://snap.stanford.edu/data/wiki-Vote.html)  \n",
    "Use python to download the `.txt.gz` file.  \n",
    "\n",
    "# Exercise1:  \n",
    "1)\tCreate a python notebook, and download the dataset from the link above.  \n",
    "2)\tUse python to create a new file and copy all the data from the `.txt.gz` into a `.txt` file.  \n",
    "3)  Use `networkx` to add the nodes from the file we just created: [NetworkX_Documentation](https://networkx.org/documentation/stable/reference/classes/graph.html)  \n",
    "4)  Make a random number generator that is able to create a number between 1 and the length of your Undirected graphs.  \n",
    "5)  Print all the neighbouring nodes, of the randomly generated id.  \n",
    "6)  Make a visual presentation of the randomly generated id in the notebooks. `nx.draw()`\n",
    "\n",
    "# Exercise2:\n",
    "1)  Make a simple flask server with one, get endpoint `/wiki/randomNodes`.  \n",
    "    a) Make it write `Hello World`.  \n",
    "2)\tEdit the `/wiki/randomNodes` endpoint to print the randomly generated node, and all the neightboring nodes.  \n",
    "\n",
    "### Made by:  \n",
    "## *Lucky drawing*"
   ],
   "cell_type": "markdown",
   "metadata": {}
  },
  {
   "cell_type": "code",
   "execution_count": 35,
   "metadata": {},
   "outputs": [],
   "source": [
    "import requests\n",
    "import gzip\n",
    "import shutil\n",
    "\n",
    "import networkx as nx\n",
    "import random as ran"
   ]
  },
  {
   "cell_type": "code",
   "execution_count": 36,
   "metadata": {},
   "outputs": [],
   "source": [
    "# Donwload dataset\n",
    "url = 'https://snap.stanford.edu/data/wiki-Vote.txt.gz'\n",
    "filename = url.split('/')[-1]\n",
    "filepath = f'data/{filename}'\n",
    "with gzip.open(filepath, 'rb') as f_in:\n",
    "    with open('data/data.txt', 'wb') as f_out:\n",
    "        shutil.copyfileobj(f_in, f_out)"
   ]
  },
  {
   "cell_type": "code",
   "execution_count": 37,
   "metadata": {},
   "outputs": [
    {
     "output_type": "stream",
     "name": "stdout",
     "text": [
      "4349\n"
     ]
    }
   ],
   "source": [
    "g = nx.read_edgelist('data/data.txt')\n",
    "\n",
    "for neighbor in g.neighbors(random_no_gen(g)):\n",
    "    print(neighbor)\n",
    "\n",
    "def random_no_gen(g):\n",
    "    return str(ran.randint(1,len(g)))"
   ]
  },
  {
   "cell_type": "code",
   "execution_count": null,
   "metadata": {},
   "outputs": [],
   "source": [
    "def draw_graph(graph):\n",
    "    nx.draw(graph, pos=graphviz_layout(graph), \n",
    "            node_size=30, width=.05, cmap=plt.cm.Blues, \n",
    "            with_labels=True, node_color=range(len(graph)))"
   ]
  }
 ],
 "metadata": {
  "kernelspec": {
   "display_name": "Python 3",
   "language": "python",
   "name": "python3"
  },
  "language_info": {
   "codemirror_mode": {
    "name": "ipython",
    "version": 3
   },
   "file_extension": ".py",
   "mimetype": "text/x-python",
   "name": "python",
   "nbconvert_exporter": "python",
   "pygments_lexer": "ipython3",
   "version": "3.7.6-final"
  }
 },
 "nbformat": 4,
 "nbformat_minor": 4
}