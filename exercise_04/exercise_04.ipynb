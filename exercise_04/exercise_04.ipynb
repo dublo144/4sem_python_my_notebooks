{
 "cells": [
  {
   "cell_type": "markdown",
   "metadata": {},
   "source": [
    "### Class exercise: table\n",
    "![](../../images/numpy_slice_ex.png)\n",
    "- on the above image find the 5 different slicings using only the array slicing notation"
   ]
  },
  {
   "cell_type": "code",
   "execution_count": 24,
   "metadata": {
    "tags": []
   },
   "outputs": [
    {
     "name": "stdout",
     "output_type": "stream",
     "text": [
      "10\n",
      "[11 16 21 26]\n",
      "[14 24]\n",
      "[11 12 13]\n",
      "[12 17 22]\n"
     ]
    }
   ],
   "source": [
    "# the following line is jupyter notebook specific \n",
    "%matplotlib inline\n",
    "import numpy as np\n",
    "\n",
    "a = np.arange(10, 30).reshape(4, 5)\n",
    "\n",
    "yellow = a[0,0];\n",
    "lightBlue = a[:, 1]\n",
    "blue = a[0:3:2, 4]\n",
    "red = a[0, 1:4]\n",
    "green = a[0:3, 2]\n",
    "\n",
    "\n",
    "print(yellow)\n",
    "print(lightBlue)\n",
    "print(blue)\n",
    "print(red)\n",
    "print(green)"
   ]
  },
  {
   "cell_type": "code",
   "execution_count": 28,
   "metadata": {
    "tags": []
   },
   "outputs": [
    {
     "name": "stdout",
     "output_type": "stream",
     "text": [
      "[12 13 14]\n",
      "[ 3 12 21]\n",
      "[6 7 8]\n"
     ]
    }
   ],
   "source": [
    "cube = np.arange(0, 27).reshape((3, 3, 3)) # = (z, y, x)\n",
    "\n",
    "print(cube[1, 1, :])\n",
    "print(cube[:, 1, 0])\n",
    "print(cube[0, 2, :])"
   ]
  }
 ],
 "metadata": {
  "kernelspec": {
   "display_name": "Python 3",
   "language": "python",
   "name": "python3"
  },
  "language_info": {
   "codemirror_mode": {
    "name": "ipython",
    "version": 3
   },
   "file_extension": ".py",
   "mimetype": "text/x-python",
   "name": "python",
   "nbconvert_exporter": "python",
   "pygments_lexer": "ipython3",
   "version": "3.7.6"
  }
 },
 "nbformat": 4,
 "nbformat_minor": 4
}
