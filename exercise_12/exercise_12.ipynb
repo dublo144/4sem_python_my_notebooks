{
 "cells": [
  {
   "cell_type": "code",
   "execution_count": 87,
   "metadata": {},
   "outputs": [
    {
     "name": "stdout",
     "output_type": "stream",
     "text": [
      "Populating the interactive namespace from numpy and matplotlib\n"
     ]
    }
   ],
   "source": [
    "%pylab inline\n",
    "import numpy as np\n",
    "import pdb\n",
    "import pandas as pd\n",
    "import matplotlib\n",
    "import matplotlib.pyplot as plt\n",
    "from sklearn import datasets\n",
    "from itertools import cycle"
   ]
  },
  {
   "cell_type": "code",
   "execution_count": 24,
   "metadata": {},
   "outputs": [
    {
     "data": {
      "text/html": [
       "<div>\n",
       "<style scoped>\n",
       "    .dataframe tbody tr th:only-of-type {\n",
       "        vertical-align: middle;\n",
       "    }\n",
       "\n",
       "    .dataframe tbody tr th {\n",
       "        vertical-align: top;\n",
       "    }\n",
       "\n",
       "    .dataframe thead th {\n",
       "        text-align: right;\n",
       "    }\n",
       "</style>\n",
       "<table border=\"1\" class=\"dataframe\">\n",
       "  <thead>\n",
       "    <tr style=\"text-align: right;\">\n",
       "      <th></th>\n",
       "      <th>weight</th>\n",
       "      <th>height</th>\n",
       "      <th>type</th>\n",
       "    </tr>\n",
       "  </thead>\n",
       "  <tbody>\n",
       "    <tr>\n",
       "      <th>0</th>\n",
       "      <td>233.479920</td>\n",
       "      <td>23.514130</td>\n",
       "      <td>rat</td>\n",
       "    </tr>\n",
       "    <tr>\n",
       "      <th>1</th>\n",
       "      <td>231.324467</td>\n",
       "      <td>26.033830</td>\n",
       "      <td>rat</td>\n",
       "    </tr>\n",
       "    <tr>\n",
       "      <th>2</th>\n",
       "      <td>17.906954</td>\n",
       "      <td>6.846577</td>\n",
       "      <td>mouse</td>\n",
       "    </tr>\n",
       "    <tr>\n",
       "      <th>3</th>\n",
       "      <td>230.276523</td>\n",
       "      <td>24.077800</td>\n",
       "      <td>rat</td>\n",
       "    </tr>\n",
       "    <tr>\n",
       "      <th>4</th>\n",
       "      <td>20.360593</td>\n",
       "      <td>6.605983</td>\n",
       "      <td>mouse</td>\n",
       "    </tr>\n",
       "  </tbody>\n",
       "</table>\n",
       "</div>"
      ],
      "text/plain": [
       "       weight     height   type\n",
       "0  233.479920  23.514130    rat\n",
       "1  231.324467  26.033830    rat\n",
       "2   17.906954   6.846577  mouse\n",
       "3  230.276523  24.077800    rat\n",
       "4   20.360593   6.605983  mouse"
      ]
     },
     "execution_count": 24,
     "metadata": {},
     "output_type": "execute_result"
    }
   ],
   "source": [
    "rodents = pd.read_csv('../../data/rodents.csv', sep=';')\n",
    "rodents.head()"
   ]
  },
  {
   "cell_type": "code",
   "execution_count": 89,
   "metadata": {},
   "outputs": [],
   "source": [
    "def activation_function(x):\n",
    "    \"\"\"\n",
    "    Step function to respond with y = 1 or -1\n",
    "    Parameter:\n",
    "    x: An x (numeric) value that will have a corresponding y value of 1 or -1\n",
    "    \"\"\"\n",
    "    if x < 0:\n",
    "        return -1\n",
    "    else:\n",
    "        return 1\n",
    "    \n",
    "def predict(inp_vec, weights):\n",
    "    \"\"\"\n",
    "    Parameters:\n",
    "    inp_vec:\n",
    "        An input vector consisting of sepal length and width\n",
    "    weights:\n",
    "        A vector of same length as inp_vec, containing a weight for each input\n",
    "    return:\n",
    "        A class label, either 1 for 'setosa' or -1 for 'other'\n",
    "    \"\"\"\n",
    "    class_label_prediction = perceptron(inp_vec, weights)\n",
    "    return class_label_prediction\n",
    "\n",
    "\n",
    "def pla(training_data, no_iterations=10000, eta=0.5):\n",
    "    \"\"\"\n",
    "    Find the proper weights to use in the perceptron based on data and target\n",
    "    Parameters:\n",
    "    training_data: list of vectors (features), as predictors zipped with a target value\n",
    "    no_iterations: number of times to adjust the weights to get them as close as possible to the optimal number\n",
    "    eta: the learning rate (prevent learning to go pendulum from one extreme error to the opposite)\n",
    "    \"\"\"\n",
    "    \n",
    "    dim = len(training_data[0][0]) # len = 2 (petal width and height)\n",
    "    weights =  np.random.random(dim) # error and weights (for x and y) start out as random numbers\n",
    "    \n",
    "    # initial_error\n",
    "    error = np.random.random()\n",
    "    weight_history = [np.copy(weights)]\n",
    "\n",
    "    for i in range(no_iterations):\n",
    "        #pdb.set_trace()\n",
    "        #breakpoint()\n",
    "        inp_vec, expected_label = training_data[i % len(training_data)] # get the next feature set and label (start over after reaching end)\n",
    "        perceptron_output = perceptron(inp_vec, weights) # perceptron output id a decimal between 0 and 1\n",
    "        error = expected_label - perceptron_output       # error \n",
    "        weights += eta * error * inp_vec # accumulate the weights\n",
    "        weight_history.append(np.copy(weights))\n",
    "        \n",
    "    return weights, weight_history \n",
    "\n",
    "def compute_line(weights):\n",
    "    \"\"\"\n",
    "    Visualizing Linear Separability by using weights/norm(weights) wich are othogonal to the division line.\n",
    "    Parameters:\n",
    "    weights: the weights calculated by PLA\n",
    "    \"\"\"\n",
    "    norm = np.linalg.norm(weights) # calculating the frobenius norm adjusting values measured on different scales to a notionally common scale\n",
    "    ww = weights / norm # weight vector is perpendicular (or othogonal) to the division line\n",
    "    ww1 = [ww[1], -ww[0]] # first point on our division line\n",
    "    ww2 = [-ww[1] , ww[0]] # second point on our division line\n",
    "    # slope and intercept\n",
    "    m = (ww2[1] - ww1[1]) / (ww2[0] - ww1[0]) # slope = delta y / delta x\n",
    "    b = ((ww2[0] - ww1[0]) * m) + ww1[1]      # intercept = delta x * slope + y(x1)\n",
    "    print('slope:',m,'bias',b)\n",
    "    return m, b\n",
    "\n",
    "def plot_data(data, w_line=None):\n",
    "    \"\"\"\n",
    "    show data in 2d petal length vs width and target being 1 or -1 (indicating if flower is iris setosa or not.)\n",
    "    Parameters:\n",
    "    data: array of type tuple(array[petal_height, petal_width], target) target is either 1 or -1\n",
    "    w_line: a visual line to seperate the 2 clusters. If none is provided it will not show\n",
    "    \"\"\"\n",
    "    # print(data[:10])\n",
    "    data_points, class_labels = list(zip(*data))\n",
    "    data_points = np.array(data_points)\n",
    "    class_labels = np.array(class_labels)\n",
    "\n",
    "    colors = cycle('bgrcmy')\n",
    "    for l, col in zip(np.unique(class_labels), colors):\n",
    "        d =  data_points[class_labels == l]\n",
    "        x = d[:,0]\n",
    "        y = d[:,1]\n",
    "        plt.scatter(d[:,0], d[:,1], c=col, label=l)\n",
    "    \n",
    "    if w_line:                  # only plot a division line if one exists\n",
    "        l = np.linspace(0, 8.5) # 50 evenly spaced numbers for the x axis\n",
    "        m, b = w_line           # m = slope, b = intercept\n",
    "        plt.plot(l, m * l + b, 'y-', lw=2) # lw is line width\n",
    "\n",
    "    plt.axis([0, 8.5, 0, 5])\n",
    "    plt.title('Iris Characteristics')\n",
    "    plt.xlabel('length')\n",
    "    plt.ylabel('width')\n",
    "    plt.legend()\n",
    "\n"
   ]
  },
  {
   "cell_type": "markdown",
   "metadata": {},
   "source": [
    "### Part one: general\n",
    "1. Look at the activation_function and plot the y-values for each x from -5,5 spaced with 0.5 \n",
    "2. Change the perceptron method from the notebook to use the [numpy.dot() method](https://docs.scipy.org/doc/numpy/reference/generated/numpy.dot.html) in line 12 instead of the lengthy sum() function"
   ]
  },
  {
   "cell_type": "code",
   "execution_count": 13,
   "metadata": {},
   "outputs": [],
   "source": [
    "rnge = np.linspace(-5.5, 0.5, num=len(rodents))\n",
    "values = [activation_function(i) for i in rnge]\n",
    "\n",
    "def perceptron(inp, weights):\n",
    "    \"\"\"\n",
    "    Given a list of feature (x) values and a list of weights, \n",
    "    calculates the dot product of the 2 lists and returns 1 or -1 (fire or don't)\n",
    "    Parameters:\n",
    "    inp: vector of input predictors\n",
    "    weights: vector of weights to be ajusted for precise prediction of output.\n",
    "    \"\"\"\n",
    "    # This is the same as the dot product np.dot(i, w)\n",
    "    dot_product = np.dot(inp, weights)\n",
    "    #dot_product = sum([i * w for i, w in zip(inp, weights)])\n",
    "    output = activation_function(dot_product)\n",
    "    return output"
   ]
  },
  {
   "cell_type": "markdown",
   "metadata": {},
   "source": [
    "### Part two: rodent data\n",
    "1. Make a new scatter plot with datapoints of weights vs heights. Choose different colors for rats and mice\n",
    "2. Manually find the optimal linear function to divide the 2 groups (y = aX+b). Plot it on the scatter plot\n",
    "3. What is the slope and intercept of the linear function?\n",
    "4. Now change the 'type' column to represent rats as 1 and mice as -1\n",
    "5. Clean up any rows with null data\n",
    "6. Use these weights herè [40,-190] to determine if the following 3 animals are mice or rats: \n",
    "```\n",
    "[[231.32446731816555,26.03382997978225],\n",
    "[17.906954059999567,6.846576762459397],\n",
    "[230.276522831171,24.077799766119398]]\n",
    "```\n",
    "7. Find the (approximately) optimal weights using the perceptron learning algorithm\n",
    "8. Plot the weightline\n",
    "9. Plot the division line"
   ]
  },
  {
   "cell_type": "code",
   "execution_count": 4,
   "metadata": {
    "scrolled": true
   },
   "outputs": [
    {
     "data": {
      "text/plain": [
       "<matplotlib.legend.Legend at 0x7fc57b1e1f10>"
      ]
     },
     "execution_count": 4,
     "metadata": {},
     "output_type": "execute_result"
    },
    {
     "data": {
      "image/png": "[encoded data removed]",
      "text/plain": [
       "<Figure size 432x288 with 1 Axes>"
      ]
     },
     "metadata": {
      "needs_background": "light"
     },
     "output_type": "display_data"
    }
   ],
   "source": [
    "height = rodents[rodents.type == 'rat'].iloc[:,1]\n",
    "weight = rodents[rodents.type == 'rat'].iloc[:,0]\n",
    "plt.scatter(height, weight, c='g', label='rat')\n",
    "\n",
    "height = rodents[rodents.type == 'mouse'].iloc[:,1]\n",
    "weight = rodents[rodents.type == 'mouse'].iloc[:,0]\n",
    "plt.scatter(height, weight, c='b', label='mouse')\n",
    "\n",
    "plt.xlabel('Height')\n",
    "plt.ylabel('Weight')\n",
    "plt.legend()"
   ]
  },
  {
   "cell_type": "code",
   "execution_count": 30,
   "metadata": {},
   "outputs": [],
   "source": [
    "from sklearn import preprocessing\n",
    "rodents.dropna(inplace=True)\n",
    "\n",
    "#label_enc = preprocessing.LabelEncoder()\n",
    "#rodents['type'] = label_enc.fit_transform(rodents['type'].astype(str))\n",
    "\n",
    "rodents.replace(to_replace=['rat', 'mouse'], value=['1', '-1'], inplace=True)"
   ]
  },
  {
   "cell_type": "code",
   "execution_count": 31,
   "metadata": {},
   "outputs": [
    {
     "name": "stdout",
     "output_type": "stream",
     "text": [
      "1\n",
      "-1\n",
      "1\n"
     ]
    }
   ],
   "source": [
    "data = [[231.32446731816555,26.03382997978225],\n",
    "[17.906954059999567,6.846576762459397],\n",
    "[230.276522831171,24.077799766119398]]\n",
    "weights = [40, -190]\n",
    "\n",
    "for i in data:\n",
    "    print(predict(i, weights))"
   ]
  },
  {
   "cell_type": "code",
   "execution_count": 85,
   "metadata": {},
   "outputs": [
    {
     "name": "stdout",
     "output_type": "stream",
     "text": [
      "[  46.83374372 -190.0912344 ]\n"
     ]
    }
   ],
   "source": [
    "class_labels = np.copy(rodents.type)\n",
    "data = rodents.drop(['type'], 'columns').to_numpy()\n",
    "training_data = [(d, int(l)) for d, l in zip(data, class_labels)]\n",
    "learned_weights, weight_history = pla(training_data)\n",
    "print(learned_weights)"
   ]
  },
  {
   "cell_type": "code",
   "execution_count": 90,
   "metadata": {},
   "outputs": [
    {
     "name": "stdout",
     "output_type": "stream",
     "text": [
      "slope: 0.24637508335036504 bias 0.23922158317549852\n"
     ]
    },
    {
     "data": {
      "image/png": "[encoded data removed]",
      "text/plain": [
       "<Figure size 432x288 with 1 Axes>"
      ]
     },
     "metadata": {
      "needs_background": "light"
     },
     "output_type": "display_data"
    }
   ],
   "source": [
    "plot_data(training_data, compute_line(learned_weights))"
   ]
  }
 ],
 "metadata": {
  "kernelspec": {
   "display_name": "Python 3",
   "language": "python",
   "name": "python3"
  },
  "language_info": {
   "codemirror_mode": {
    "name": "ipython",
    "version": 3
   },
   "file_extension": ".py",
   "mimetype": "text/x-python",
   "name": "python",
   "nbconvert_exporter": "python",
   "pygments_lexer": "ipython3",
   "version": "3.7.6"
  }
 },
 "nbformat": 4,
 "nbformat_minor": 4
}
