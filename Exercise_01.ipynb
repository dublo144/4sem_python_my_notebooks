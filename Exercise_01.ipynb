{
 "cells": [
  {
   "cell_type": "markdown",
   "metadata": {},
   "source": [
    "# A) Iterate a list of names to return a list of the names starting with H"
   ]
  },
  {
   "cell_type": "code",
   "execution_count": 5,
   "metadata": {},
   "outputs": [
    {
     "name": "stdout",
     "output_type": "stream",
     "text": [
      "['Hans', 'Hanne']\n"
     ]
    }
   ],
   "source": [
    "names = list(['John', 'Hans', 'Birger', 'Torben', 'Hanne'])\n",
    "namesBeginningWithH = [name for name in names if name[0].lower() == 'h']\n",
    "print(namesBeginningWithH)"
   ]
  },
  {
   "cell_type": "markdown",
   "metadata": {},
   "source": [
    "# B) In one line create a list of the numbers 1-100 to the power of 3"
   ]
  },
  {
   "cell_type": "code",
   "execution_count": 8,
   "metadata": {},
   "outputs": [
    {
     "name": "stdout",
     "output_type": "stream",
     "text": [
      "[3, 6, 9, 12, 15, 18, 21, 24, 27, 30, 33, 36, 39, 42, 45, 48, 51, 54, 57, 60, 63, 66, 69, 72, 75, 78, 81, 84, 87, 90, 93, 96, 99, 102, 105, 108, 111, 114, 117, 120, 123, 126, 129, 132, 135, 138, 141, 144, 147, 150, 153, 156, 159, 162, 165, 168, 171, 174, 177, 180, 183, 186, 189, 192, 195, 198, 201, 204, 207, 210, 213, 216, 219, 222, 225, 228, 231, 234, 237, 240, 243, 246, 249, 252, 255, 258, 261, 264, 267, 270, 273, 276, 279, 282, 285, 288, 291, 294, 297, 300]\n"
     ]
    }
   ],
   "source": [
    "powerOf3 = [num*3 for num in range(1, 101)]\n",
    "print(powerOf3)"
   ]
  },
  {
   "cell_type": "markdown",
   "metadata": {},
   "source": [
    "# C) Iterate a list of names to create a list of tuples where the tuples first value is the length of the name and the second is the name"
   ]
  },
  {
   "cell_type": "code",
   "execution_count": 10,
   "metadata": {},
   "outputs": [
    {
     "name": "stdout",
     "output_type": "stream",
     "text": [
      "[(4, 'John'), (4, 'Hans'), (6, 'Birger'), (6, 'Torben'), (5, 'Hanne')]\n"
     ]
    }
   ],
   "source": [
    "names = list(['John', 'Hans', 'Birger', 'Torben', 'Hanne'])\n",
    "tuples = [(len(name), name,) for name in names]\n",
    "print(tuples)"
   ]
  },
  {
   "cell_type": "markdown",
   "metadata": {},
   "source": [
    "# D) Iterate over each character in a string and get only those that are nummeric"
   ]
  },
  {
   "cell_type": "code",
   "execution_count": 14,
   "metadata": {},
   "outputs": [
    {
     "name": "stdout",
     "output_type": "stream",
     "text": [
      "['1', '1', '0', '6', '5']\n"
     ]
    }
   ],
   "source": [
    "string = 'th1sStr1ngC0ntainsNum6er5'\n",
    "numbers = [char for char in string if char.isnumeric()]\n",
    "print(numbers)"
   ]
  },
  {
   "cell_type": "markdown",
   "metadata": {},
   "source": [
    "# E) Using only a list comprehension wrapped in set() get all possible combination from throwing 2 dice"
   ]
  },
  {
   "cell_type": "code",
   "execution_count": 16,
   "metadata": {},
   "outputs": [
    {
     "name": "stdout",
     "output_type": "stream",
     "text": [
      "[(1, 1), (1, 2), (1, 3), (1, 4), (1, 5), (1, 6), (2, 1), (2, 2), (2, 3), (2, 4), (2, 5), (2, 6), (3, 1), (3, 2), (3, 3), (3, 4), (3, 5), (3, 6), (4, 1), (4, 2), (4, 3), (4, 4), (4, 5), (4, 6), (5, 1), (5, 2), (5, 3), (5, 4), (5, 5), (5, 6), (6, 1), (6, 2), (6, 3), (6, 4), (6, 5), (6, 6)]\n"
     ]
    }
   ],
   "source": [
    "combinations = [(die1, die2) for die1 in range(1, 7) for die2 in range(1, 7)]\n",
    "print(combinations)"
   ]
  },
  {
   "cell_type": "markdown",
   "metadata": {},
   "source": [
    "# A) Iterate a list of names and create a dictionary where key is the name and value is the length of the name"
   ]
  },
  {
   "cell_type": "code",
   "execution_count": 17,
   "metadata": {},
   "outputs": [
    {
     "name": "stdout",
     "output_type": "stream",
     "text": [
      "[{'John': 4}, {'Hans': 4}, {'Birger': 6}, {'Torben': 6}, {'Hanne': 5}]\n"
     ]
    }
   ],
   "source": [
    "names = list(['John', 'Hans', 'Birger', 'Torben', 'Hanne'])\n",
    "dictList = [{name:len(name)} for name in names]\n",
    "print(dictList)"
   ]
  },
  {
   "cell_type": "markdown",
   "metadata": {},
   "source": [
    "# B) Iterate a list of numbers and create a dictionary with (key, value) being (number, squareroot of number)"
   ]
  },
  {
   "cell_type": "code",
   "execution_count": 20,
   "metadata": {},
   "outputs": [
    {
     "name": "stdout",
     "output_type": "stream",
     "text": [
      "[{1: 1.0}, {5: 2.23606797749979}, {22: 4.69041575982343}, {75: 8.660254037844387}, {221: 14.866068747318506}, {6: 2.449489742783178}, {7: 2.6457513110645907}, {8: 2.8284271247461903}]\n"
     ]
    }
   ],
   "source": [
    "import math\n",
    "numbers = [1, 5, 22, 75, 221, 6, 7, 8]\n",
    "numbersDict = [{number:math.sqrt(number)} for number in numbers]\n",
    "print(numbersDict)"
   ]
  },
  {
   "cell_type": "markdown",
   "metadata": {},
   "source": [
    "# Progammatically using loops create a small program to produce a dictionary with all the 2 dice throw combinations as keys and their likelyhood in percent as values"
   ]
  },
  {
   "cell_type": "code",
   "execution_count": 33,
   "metadata": {},
   "outputs": [
    {
     "name": "stdout",
     "output_type": "stream",
     "text": [
      "[{2.78, (1, 1)}, {(1, 2), 5.56}, {8.33, (1, 3)}, {11.11, (1, 4)}, {(1, 5), 13.89}, {16.67, (1, 6)}, {5.56, (2, 1)}, {8.33, (2, 2)}, {11.11, (2, 3)}, {13.89, (2, 4)}, {16.67, (2, 5)}, {(2, 6), 13.89}, {8.33, (3, 1)}, {(3, 2), 11.11}, {13.89, (3, 3)}, {16.67, (3, 4)}, {13.89, (3, 5)}, {11.11, (3, 6)}, {11.11, (4, 1)}, {(4, 2), 13.89}, {16.67, (4, 3)}, {(4, 4), 13.89}, {(4, 5), 11.11}, {8.33, (4, 6)}, {(5, 1), 13.89}, {16.67, (5, 2)}, {13.89, (5, 3)}, {(5, 4), 11.11}, {8.33, (5, 5)}, {(5, 6), 5.56}, {16.67, (6, 1)}, {(6, 2), 13.89}, {(6, 3), 11.11}, {8.33, (6, 4)}, {5.56, (6, 5)}, {2.78, (6, 6)}]\n"
     ]
    }
   ],
   "source": [
    "def probability(throw):\n",
    "    possibleCombinations = [c for c in combinations if sum(c) == sum(throw)]\n",
    "    return round((len(possibleCombinations) / 36) * 100, 2)\n",
    "\n",
    "possibilityDict = [{p, probability(p)} for p in combinations]\n",
    "\n",
    "print(possibilityDict)"
   ]
  }
 ],
 "metadata": {
  "kernelspec": {
   "display_name": "Python 3",
   "language": "python",
   "name": "python3"
  },
  "language_info": {
   "codemirror_mode": {
    "name": "ipython",
    "version": 3
   },
   "file_extension": ".py",
   "mimetype": "text/x-python",
   "name": "python",
   "nbconvert_exporter": "python",
   "pygments_lexer": "ipython3",
   "version": "3.7.6"
  }
 },
 "nbformat": 4,
 "nbformat_minor": 4
}
